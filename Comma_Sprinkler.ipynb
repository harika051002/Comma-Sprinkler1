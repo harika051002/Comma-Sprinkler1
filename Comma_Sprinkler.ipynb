{
  "nbformat": 4,
  "nbformat_minor": 0,
  "metadata": {
    "colab": {
      "provenance": [],
      "authorship_tag": "ABX9TyP1lmBW/TXILN3VwyQmzbU6",
      "include_colab_link": true
    },
    "kernelspec": {
      "name": "python3",
      "display_name": "Python 3"
    },
    "language_info": {
      "name": "python"
    }
  },
  "cells": [
    {
      "cell_type": "markdown",
      "metadata": {
        "id": "view-in-github",
        "colab_type": "text"
      },
      "source": [
        "<a href=\"https://colab.research.google.com/github/harika051002/Comma-Sprinkler1/blob/main/Comma_Sprinkler.ipynb\" target=\"_parent\"><img src=\"https://colab.research.google.com/assets/colab-badge.svg\" alt=\"Open In Colab\"/></a>"
      ]
    },
    {
      "cell_type": "code",
      "execution_count": null,
      "metadata": {
        "colab": {
          "base_uri": "https://localhost:8080/"
        },
        "id": "WFDOO1l3gzbo",
        "outputId": "58cbf744-6927-4bf3-a084-c9094f731cc2"
      },
      "outputs": [
        {
          "name": "stdout",
          "output_type": "stream",
          "text": [
            "Enter a text : please, sit spot. sit spot, sit. spot, here now, here.\n",
            "Output: please, sit spot. sit spot, sit. spot, here now, here.\n",
            "Enter a text : one, two. one tree. four tree. four four. five four. six five.\n",
            "Output: one, two. one, tree. four, tree. four, four. five, four. six five.\n",
            "Enter a text : quit\n"
          ]
        }
      ],
      "source": [
        "def each_word_and_its_follower(input_line):\n",
        "    input_line = iter(input_line)\n",
        "    current_word = next(input_line)\n",
        "    for next_word in input_line:\n",
        "        yield (current_word, next_word)\n",
        "        current_word = next_word\n",
        "    yield (current_word, '')\n",
        "\n",
        "def add_commas_to_text(input_text):\n",
        "    previous_input = ''\n",
        "    current_input = input_text\n",
        "    while previous_input != current_input:\n",
        "        previous_input = current_input\n",
        "        splitted_input = current_input.split()\n",
        "\n",
        "        rule_1_words = set(\n",
        "            follower.rstrip(',.')\n",
        "            for (current_word, follower) in each_word_and_its_follower(splitted_input)\n",
        "            if current_word.endswith(',')\n",
        "        )\n",
        "\n",
        "        rule_2_words = set(\n",
        "            current_word.rstrip(',.')\n",
        "            for current_word in splitted_input\n",
        "            if current_word.endswith(',')\n",
        "        )\n",
        "\n",
        "        def modify_words(previous_line):\n",
        "            for (current_word, follower) in each_word_and_its_follower(previous_line):\n",
        "                if current_word.endswith('.'):\n",
        "                    yield current_word\n",
        "                else:\n",
        "                    if (follower.rstrip(',.') in rule_1_words) or (current_word.rstrip(',.') in rule_2_words):\n",
        "                        yield f'{current_word.rstrip(\",.\")},'\n",
        "                    else:\n",
        "                        yield current_word\n",
        "\n",
        "        current_input = ' '.join(modify_words(splitted_input))\n",
        "\n",
        "    return current_input\n",
        "\n",
        "while True:\n",
        "    user_input = input(\"Enter a text : \")\n",
        "\n",
        "    if user_input.lower() == 'quit':\n",
        "        break\n",
        "\n",
        "    output_text = add_commas_to_text(user_input)\n",
        "    print(\"Output:\", output_text)\n"
      ]
    }
  ]
}